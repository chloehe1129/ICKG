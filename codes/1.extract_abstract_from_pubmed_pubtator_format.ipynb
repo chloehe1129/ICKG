{
 "cells": [
  {
   "cell_type": "code",
   "execution_count": 1,
   "metadata": {},
   "outputs": [],
   "source": [
    "from Bio import Entrez\n",
    "from Bio import Medline\n",
    "import xml.etree.ElementTree as ET"
   ]
  },
  {
   "cell_type": "code",
   "execution_count": 2,
   "metadata": {},
   "outputs": [],
   "source": [
    "def fetch_pubmed_data(pubmed_ids):\n",
    "    Entrez.email = \"she4@mdanderson.org\"  # Provide your email here\n",
    "    data = {}\n",
    "    try:\n",
    "        # Fetch the PubMed records in XML format\n",
    "        handle = Entrez.efetch(db=\"pubmed\", id=\",\".join(pubmed_ids), rettype=\"medline\", retmode=\"xml\")\n",
    "        xml_data = handle.read()\n",
    "        handle.close()\n",
    "        \n",
    "        # Parse XML data\n",
    "        root = ET.fromstring(xml_data)\n",
    "        for article in root.findall('.//PubmedArticle'):\n",
    "            pmid_element = article.find('.//PMID')\n",
    "            pmid = pmid_element.text if pmid_element is not None else 'No PMID'\n",
    "            title_element = article.find('.//ArticleTitle')\n",
    "            title = title_element.text if title_element is not None else 'No Title'\n",
    "            abstract_element = article.find('.//Abstract/AbstractText')\n",
    "            abstract = abstract_element.text if abstract_element is not None else 'No Abstract'\n",
    "            data[pmid] = {'title': title, 'abstract': abstract}\n",
    "    except Exception as e:\n",
    "        print(f\"An error occurred: {e}\")\n",
    "    return data\n",
    "\n",
    "def save_pubtator_files(data):\n",
    "    if not data:\n",
    "        print(\"No data to save.\")\n",
    "    for pmid, content in data.items():\n",
    "        with open(f\"{pmid}.txt\", 'w') as file:\n",
    "            file.write(f\"{pmid}|t|{content['title']}\\n\")\n",
    "            file.write(f\"{pmid}|a|{content['abstract']}\\n\")\n",
    "\n",
    "def search_pubmed(keywords,start_year,end_year):\n",
    "    \"\"\"Search PubMed for given keywords and return a list of PMIDs.\"\"\"\n",
    "    Entrez.email = \"she4@mdanderson.org\"  # Provide your email here\n",
    "    query = keywords\n",
    "    # handle = Entrez.esearch(db=\"pubmed\", term=query, retmax=500)  # Adjust retmax as needed for more or fewer results\n",
    "    handle = Entrez.esearch(db=\"pubmed\",\n",
    "                            term=query,\n",
    "                            datetype=\"pdat\",  # 'pdat' for publication date\n",
    "                            mindate=str(start_year),\n",
    "                            maxdate=str(end_year),\n",
    "                            retmax=20000) \n",
    "    record = Entrez.read(handle)\n",
    "    handle.close()\n",
    "    return record['IdList']"
   ]
  },
  {
   "cell_type": "code",
   "execution_count": 3,
   "metadata": {},
   "outputs": [],
   "source": [
    "import os\n",
    "os.chdir(\"/Volumes/she4/knowledgegraph/biobert_aioner/AIONER/example/input_more/\")\n",
    "\n",
    "# Define your keywords\n",
    "keywords = \"cancer immunology natural killer cells\"\n",
    "pmids = search_pubmed(keywords,2020,2024)\n",
    "\n",
    "pubmed_ids = pmids  # List of PubMed IDs\n",
    "pubmed_data = fetch_pubmed_data(pubmed_ids)\n",
    "save_pubtator_files(pubmed_data)"
   ]
  },
  {
   "cell_type": "code",
   "execution_count": 3,
   "metadata": {},
   "outputs": [],
   "source": [
    "import os\n",
    "os.chdir(\"/Volumes/she4/knowledgegraph/biobert_aioner/AIONER/example/Tcell/\")\n",
    "\n",
    "# Define your keywords\n",
    "keywords = \"cancer immunology T cells\"\n",
    "pmids = search_pubmed(keywords,2020,2024)\n",
    "\n",
    "pubmed_ids = pmids  # List of PubMed IDs\n",
    "pubmed_data = fetch_pubmed_data(pubmed_ids)\n",
    "save_pubtator_files(pubmed_data)"
   ]
  },
  {
   "cell_type": "code",
   "execution_count": 4,
   "metadata": {},
   "outputs": [],
   "source": [
    "import os\n",
    "os.chdir(\"/Volumes/she4/knowledgegraph/biobert_aioner/AIONER/example/Bcell/\")\n",
    "\n",
    "# Define your keywords\n",
    "keywords = \"cancer immunology B cells\"\n",
    "pmids = search_pubmed(keywords,2020,2024)\n",
    "\n",
    "pubmed_ids = pmids  # List of PubMed IDs\n",
    "pubmed_data = fetch_pubmed_data(pubmed_ids)\n",
    "save_pubtator_files(pubmed_data)"
   ]
  },
  {
   "cell_type": "code",
   "execution_count": 5,
   "metadata": {},
   "outputs": [],
   "source": [
    "import os\n",
    "os.chdir(\"/Volumes/she4/knowledgegraph/biobert_aioner/AIONER/example/Macrophage/\")\n",
    "\n",
    "# Define your keywords\n",
    "keywords = \"cancer immunology Macrophages\"\n",
    "pmids = search_pubmed(keywords,2020,2024)\n",
    "\n",
    "pubmed_ids = pmids  # List of PubMed IDs\n",
    "pubmed_data = fetch_pubmed_data(pubmed_ids)\n",
    "save_pubtator_files(pubmed_data)"
   ]
  }
 ],
 "metadata": {
  "kernelspec": {
   "display_name": "base",
   "language": "python",
   "name": "python3"
  },
  "language_info": {
   "codemirror_mode": {
    "name": "ipython",
    "version": 3
   },
   "file_extension": ".py",
   "mimetype": "text/x-python",
   "name": "python",
   "nbconvert_exporter": "python",
   "pygments_lexer": "ipython3",
   "version": "3.11.5"
  }
 },
 "nbformat": 4,
 "nbformat_minor": 2
}
